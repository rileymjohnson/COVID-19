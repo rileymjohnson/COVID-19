{
 "cells": [
  {
   "cell_type": "code",
   "execution_count": 1,
   "id": "4cc9d02d-7321-4417-a1e6-ba01cc8b4cfd",
   "metadata": {},
   "outputs": [],
   "source": [
    "from pathlib import Path\n",
    "import pandas as pd\n",
    "import regex as re\n",
    "import json"
   ]
  },
  {
   "cell_type": "code",
   "execution_count": 2,
   "id": "7e07ab91-f473-467f-96cc-194d0ce77974",
   "metadata": {},
   "outputs": [],
   "source": [
    "from playhouse.migrate import migrate, PostgresqlMigrator\n",
    "from playhouse.postgres_ext import ForeignKeyField"
   ]
  },
  {
   "cell_type": "code",
   "execution_count": 3,
   "id": "ae7aa5ce-7705-40b2-bb8e-8a5d2a8b1588",
   "metadata": {},
   "outputs": [],
   "source": [
    "from covid19app.data import *"
   ]
  },
  {
   "cell_type": "code",
   "execution_count": 104,
   "id": "f7f175e0-cd5f-43bf-956f-4c7dc800e0c9",
   "metadata": {},
   "outputs": [],
   "source": []
  },
  {
   "cell_type": "code",
   "execution_count": null,
   "id": "59416eb4-de23-425c-9cea-0bcffb8b215c",
   "metadata": {},
   "outputs": [],
   "source": []
  },
  {
   "cell_type": "code",
   "execution_count": 88,
   "id": "35b2aff9-753d-453a-ae3b-b01757fe0969",
   "metadata": {},
   "outputs": [],
   "source": [
    "# FileType, Language, Tag, Jurisdiction, DocumentType\n",
    "# is_terminating_version"
   ]
  },
  {
   "cell_type": "code",
   "execution_count": null,
   "id": "366b34de-7ea6-4216-95e4-ea068fbd5ba2",
   "metadata": {},
   "outputs": [],
   "source": []
  },
  {
   "cell_type": "code",
   "execution_count": null,
   "id": "bd9edd5f-8af4-4504-a5b0-c436442e0428",
   "metadata": {},
   "outputs": [],
   "source": []
  },
  {
   "cell_type": "code",
   "execution_count": null,
   "id": "7c79edfc-0b30-4e1f-8c79-83d6d56eafb1",
   "metadata": {},
   "outputs": [],
   "source": []
  },
  {
   "cell_type": "code",
   "execution_count": null,
   "id": "fe63ea2e-7182-4bdc-b856-6191b76856bd",
   "metadata": {},
   "outputs": [],
   "source": []
  },
  {
   "cell_type": "code",
   "execution_count": null,
   "id": "ef80005b-1018-4b85-862d-93e1a7ecd448",
   "metadata": {},
   "outputs": [],
   "source": [
    "\n",
    "from uuid import uuid5, NAMESPACE_URL, UUID\n",
    "from tempfile import NamedTemporaryFile\n",
    "from pathlib import Path\n",
    "from typing import Any\n",
    "import pandas as pd\n",
    "import regex as re\n",
    "import subprocess\n",
    "\n",
    "\n",
    "texts_folder = Path('single_texts/')\n",
    "\n",
    "def hash_args(*args: Any) -> UUID:\n",
    "    args_str = '.'.join(str(a) for a in args)\n",
    "\n",
    "    return uuid5(NAMESPACE_URL, args_str)\n",
    "\n",
    "def powershell_search(\n",
    "    search_string: int,\n",
    "    case_sensitive: bool=False,\n",
    "    context_lines: int=5,\n",
    "    use_regex: bool=True\n",
    ") -> pd.DataFrame:\n",
    "    args_hash = hash_args(search_string, case_sensitive, context_lines, use_regex)\n",
    "\n",
    "    temp_output_file = Path(f'.{args_hash}.txt')\n",
    "\n",
    "    if not use_regex:\n",
    "        search_string = re.escape(search_string)\n",
    "\n",
    "    powershell_command = [\n",
    "        'powershell.exe', 'Get-ChildItem', '-Path', str(texts_folder.absolute()),\n",
    "        '-Recurse', '|', 'Select-String', '-Pattern', f\"'{search_string}'\", '-AllMatches',\n",
    "        '-Context', str(context_lines), '|', 'Out-File', '-Encoding', 'ascii'\n",
    "    ]\n",
    "\n",
    "    if case_sensitive:\n",
    "        powershell_command.append('-CaseSensitive')\n",
    "\n",
    "    powershell_command.append(str(temp_output_file))\n",
    "\n",
    "    subprocess \\\n",
    "        .Popen(powershell_command) \\\n",
    "        .communicate()\n",
    "\n",
    "    raw_search_results = temp_output_file \\\n",
    "        .read_text(encoding='utf-8')\n",
    "\n",
    "    temp_output_file.unlink()\n",
    "\n",
    "    raw_search_results = raw_search_results.splitlines()\n",
    "\n",
    "    search_results = []\n",
    "\n",
    "    for i, line in enumerate(raw_search_results):\n",
    "        if re.match('^ *>.+$', line):\n",
    "            line_group = raw_search_results[\n",
    "                slice(i - context_lines, i + context_lines + 1)\n",
    "            ]\n",
    "\n",
    "            document_version_id = None\n",
    "            first_line_number = None\n",
    "            last_line_number = None\n",
    "            text = ''\n",
    "\n",
    "            for j, line_group_item in enumerate(line_group):\n",
    "                match = re.search(\n",
    "                    r'\\s*>*\\s*single_texts\\\\([0-9]+)\\.txt:([0-9]+):(.+)',\n",
    "                    line_group_item\n",
    "                )\n",
    "\n",
    "                if match:\n",
    "                    file_id, _, line_text = match.groups()\n",
    "\n",
    "                    if j == context_lines:\n",
    "                        # Lines numbers are indexed from 1, not 0\n",
    "                        first_line_number = i - context_lines + 1\n",
    "                        last_line_number = i + context_lines + 1\n",
    "                        document_version_id = int(file_id)\n",
    "\n",
    "                    text += line_text\n",
    "\n",
    "            search_results.append((\n",
    "                document_version_id, first_line_number,\n",
    "                last_line_number, text\n",
    "            ))\n",
    "\n",
    "    search_results = pd.DataFrame(search_results, columns=[\n",
    "        'id', 'start_line_number', 'end_line_number', 'text'\n",
    "    ])\n",
    "\n",
    "    search_results = search_results.sort_values('start_line_number')\n",
    "\n",
    "    regex_flag = 0 if case_sensitive else re.IGNORECASE\n",
    "\n",
    "    search_results['text_matches'] = search_results \\\n",
    "        .loc[:, 'text'] \\\n",
    "        .str.findall(search_string, flags=regex_flag) \\\n",
    "        .map(set) \\\n",
    "        .map(list)\n",
    "\n",
    "    search_results = search_results.loc[\n",
    "        search_results['text_matches'].str.len().gt(0)\n",
    "    ]\n",
    "\n",
    "    duplicates = []\n",
    "\n",
    "    for _, group in search_results.groupby(['text', 'id']):\n",
    "        if group.shape[0] > 1:\n",
    "            for i, row in group.iterrows():\n",
    "                is_duplicate = (\n",
    "                    (row.start_line_number > group.start_line_number) &\n",
    "                    (row.start_line_number < group.end_line_number)\n",
    "                )\n",
    "\n",
    "                if is_duplicate.any():\n",
    "                    duplicates.append(i)\n",
    "\n",
    "    search_results = search_results.drop(duplicates)\n",
    "\n",
    "    return search_results"
   ]
  },
  {
   "cell_type": "code",
   "execution_count": null,
   "id": "a98a9559-cf29-4e33-866f-c41e66a5f803",
   "metadata": {},
   "outputs": [],
   "source": []
  },
  {
   "cell_type": "code",
   "execution_count": null,
   "id": "e50d29ef-9090-450f-8a08-9fd594105ece",
   "metadata": {},
   "outputs": [],
   "source": [
    "search_results = powershell_search('cohort', case_sensitive=False, context_lines=5, use_regex=True)"
   ]
  },
  {
   "cell_type": "code",
   "execution_count": null,
   "id": "3aab4724-753b-4a70-994d-4274cb66a786",
   "metadata": {},
   "outputs": [],
   "source": []
  },
  {
   "cell_type": "code",
   "execution_count": null,
   "id": "9084b5c7-ad78-42e5-97c7-f4c1c3eeae63",
   "metadata": {},
   "outputs": [],
   "source": [
    "class PowershellSearchResult(BaseModel):\n",
    "    search_string = TextField()\n",
    "    case_sensitive = BooleanField(default=False)\n",
    "    context_lines = SmallIntegerField(default=5)\n",
    "    use_regex = BooleanField(default=True)\n",
    "    results = BinaryJSONField()"
   ]
  },
  {
   "cell_type": "code",
   "execution_count": null,
   "id": "e9e152dd-ade9-4c13-911c-64a7d094f549",
   "metadata": {},
   "outputs": [],
   "source": []
  },
  {
   "cell_type": "code",
   "execution_count": null,
   "id": "ba644903-9a65-4a9f-b672-1829391e435d",
   "metadata": {},
   "outputs": [],
   "source": []
  },
  {
   "cell_type": "code",
   "execution_count": null,
   "id": "ea4aaf3f-9f15-4ac8-8f6d-6ade1b412e3e",
   "metadata": {},
   "outputs": [],
   "source": []
  },
  {
   "cell_type": "code",
   "execution_count": null,
   "id": "7089371b-2199-463c-a4dc-83ef3ad1114b",
   "metadata": {},
   "outputs": [],
   "source": [
    "document_version_ids = set(\n",
    "    search_results.id\n",
    ")\n",
    "\n",
    "document_versions = DocumentVersion \\\n",
    "    .select(\n",
    "        DocumentVersion.id,\n",
    "        DocumentVersion.title,\n",
    "        DocumentVersion.slug,\n",
    "        DocumentVersion.effective_date,\n",
    "        DocumentVersion.termination_date,\n",
    "        Document.id.alias('document_id'),\n",
    "        Document.title.alias('document_title'),\n",
    "        Document.slug.alias('document_slug')\n",
    "    ) \\\n",
    "    .join(Document) \\\n",
    "    .where(DocumentVersion.id.in_(document_version_ids)) \\\n",
    "    .dicts()\n",
    "\n",
    "document_versions = pd \\\n",
    "    .DataFrame(document_versions) \\\n",
    "    .set_index('id')\n",
    "\n",
    "search_results = search_results \\\n",
    "    .set_index('id') \\\n",
    "    .join(document_versions)\n",
    "\n",
    "documents_dates = search_results \\\n",
    "    .groupby('document_id') \\\n",
    "    .agg({\n",
    "        'effective_date': [min, max]\n",
    "    }) \\\n",
    "    .set_axis([\n",
    "        'document_first_effective_date',\n",
    "        'document_last_effective_date'\n",
    "    ], axis=1)\n",
    "\n",
    "search_results = search_results \\\n",
    "    .join(documents_dates, on='document_id')"
   ]
  },
  {
   "cell_type": "code",
   "execution_count": null,
   "id": "48cdc6b1-a4f8-4c44-a2aa-85629ec30fc0",
   "metadata": {},
   "outputs": [],
   "source": []
  },
  {
   "cell_type": "code",
   "execution_count": null,
   "id": "c7d94006-e9f6-422b-b25c-f7c781a659a7",
   "metadata": {
    "tags": []
   },
   "outputs": [],
   "source": []
  },
  {
   "cell_type": "code",
   "execution_count": null,
   "id": "d50383d5-a4f1-4493-97f0-761f19914b33",
   "metadata": {},
   "outputs": [],
   "source": []
  },
  {
   "cell_type": "code",
   "execution_count": null,
   "id": "ae587183-5bb7-4533-93f7-5a1ee9e15e78",
   "metadata": {},
   "outputs": [],
   "source": []
  },
  {
   "cell_type": "code",
   "execution_count": null,
   "id": "4fa215b7-421a-440f-b4c7-f357042a014d",
   "metadata": {},
   "outputs": [],
   "source": []
  },
  {
   "cell_type": "code",
   "execution_count": null,
   "id": "f5f12855-343c-4cc5-bc8f-353a6209ab06",
   "metadata": {},
   "outputs": [],
   "source": [
    "8519"
   ]
  },
  {
   "cell_type": "code",
   "execution_count": null,
   "id": "e9d1d127-35f1-41ff-a5ca-dac7b93c4043",
   "metadata": {},
   "outputs": [],
   "source": []
  },
  {
   "cell_type": "code",
   "execution_count": null,
   "id": "853557fd-5d3c-46f1-9f01-559ce82d162b",
   "metadata": {},
   "outputs": [],
   "source": []
  },
  {
   "cell_type": "code",
   "execution_count": null,
   "id": "16e0ce43-5ffe-4ca7-9acd-619946824c6b",
   "metadata": {},
   "outputs": [],
   "source": []
  }
 ],
 "metadata": {
  "kernelspec": {
   "display_name": "Python 3 (ipykernel)",
   "language": "python",
   "name": "python3"
  },
  "language_info": {
   "codemirror_mode": {
    "name": "ipython",
    "version": 3
   },
   "file_extension": ".py",
   "mimetype": "text/x-python",
   "name": "python",
   "nbconvert_exporter": "python",
   "pygments_lexer": "ipython3",
   "version": "3.10.8"
  }
 },
 "nbformat": 4,
 "nbformat_minor": 5
}
